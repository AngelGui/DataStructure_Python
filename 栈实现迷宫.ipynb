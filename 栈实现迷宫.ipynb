{
  "nbformat": 4,
  "nbformat_minor": 0,
  "metadata": {
    "colab": {
      "provenance": [],
      "authorship_tag": "ABX9TyMpBCTBr0WwDGD0TRpnJ9Mg",
      "include_colab_link": true
    },
    "kernelspec": {
      "name": "python3",
      "display_name": "Python 3"
    },
    "language_info": {
      "name": "python"
    }
  },
  "cells": [
    {
      "cell_type": "markdown",
      "metadata": {
        "id": "view-in-github",
        "colab_type": "text"
      },
      "source": [
        "<a href=\"https://colab.research.google.com/github/AngelGui/DataStructure_Python/blob/main/%E6%A0%88%E5%AE%9E%E7%8E%B0%E8%BF%B7%E5%AE%AB.ipynb\" target=\"_parent\"><img src=\"https://colab.research.google.com/assets/colab-badge.svg\" alt=\"Open In Colab\"/></a>"
      ]
    },
    {
      "cell_type": "code",
      "execution_count": 17,
      "metadata": {
        "colab": {
          "base_uri": "https://localhost:8080/"
        },
        "id": "LVUHqLJwV_Th",
        "outputId": "781a0539-94ae-464c-b024-5346304ca41f"
      },
      "outputs": [
        {
          "output_type": "stream",
          "name": "stdout",
          "text": [
            "[(1, 1), (1, 2), (2, 2), (3, 2), (3, 3), (3, 4), (2, 4), (1, 4), (1, 5), (1, 6), (2, 6)]\n",
            "[(1, 1), (1, 2), (2, 2), (3, 2), (3, 3), (3, 4), (2, 4), (1, 4), (1, 5), (1, 6)]\n",
            "[(1, 1), (1, 2), (2, 2), (3, 2), (3, 3), (3, 4), (2, 4), (1, 4), (1, 5)]\n",
            "[(1, 1), (1, 2), (2, 2), (3, 2), (3, 3), (3, 4), (2, 4), (1, 4)]\n",
            "[(1, 1), (1, 2), (2, 2), (3, 2), (3, 3), (3, 4), (2, 4)]\n",
            "[(1, 1), (1, 2), (2, 2), (3, 2), (3, 3), (3, 4)]\n",
            "[(1, 1), (1, 2), (2, 2), (3, 2), (3, 3)]\n",
            "[(1, 1), (1, 2), (2, 2), (3, 2)]\n",
            "[(1, 1), (1, 2), (2, 2), (3, 2), (3, 1)]\n",
            "[(1, 1), (1, 2), (2, 2), (3, 2), (3, 1), (4, 1), (5, 1), (5, 2), (5, 3), (6, 3), (6, 4), (6, 5), (5, 5), (4, 5), (4, 6), (4, 7), (3, 7), (3, 8), (2, 8)]\n",
            "[(1, 1), (1, 2), (2, 2), (3, 2), (3, 1), (4, 1), (5, 1), (5, 2), (5, 3), (6, 3), (6, 4), (6, 5), (5, 5), (4, 5), (4, 6), (4, 7), (3, 7), (3, 8)]\n",
            "find the path\n"
          ]
        }
      ],
      "source": [
        "maze = [\n",
        "    [1,1,1,1,1,1,1,1,1,1],\n",
        "    [1,0,0,1,0,0,0,1,0,1],\n",
        "    [1,0,0,1,0,0,0,1,0,1],\n",
        "    [1,0,0,0,0,1,1,0,0,1],\n",
        "    [1,0,1,1,1,0,0,0,0,1],\n",
        "    [1,0,0,0,1,0,0,0,0,1],\n",
        "    [1,0,1,0,0,0,1,0,0,1],\n",
        "    [1,0,1,1,1,0,1,1,0,1],\n",
        "    [1,1,0,0,0,0,0,0,0,1],\n",
        "    [1,1,1,1,1,1,1,1,1,1]\n",
        "]\n",
        "\n",
        "dirs = [\n",
        "    lambda x,y:(x-1,y),\n",
        "    lambda x,y:(x,y+1),\n",
        "    lambda x,y:(x+1,y),\n",
        "    lambda x,y:(x,y-1)\n",
        "]\n",
        "\n",
        "\n",
        "def maze_path(x1,y1,x2,y2):\n",
        "  stack = []\n",
        "  cur = (x1, y1)\n",
        "  maze[x1][y1] = 2\n",
        "  stack.append(cur)\n",
        "  while len(stack) > 0:\n",
        "    flag_No_exist = False\n",
        "    cur = stack[-1]  #当前的点应该是栈最后的那一个点\n",
        "    for item in dirs:\n",
        "      d = item(cur[0], cur[1])\n",
        "      if maze[d[0]][d[1]] == 0: #表示可以走\n",
        "          flag_No_exist = True\n",
        "          stack.append(d)\n",
        "          if (d[0] == x2) & (d[1] == y2):\n",
        "            print(\"find the path\")\n",
        "            return\n",
        "          cur = d\n",
        "          maze[d[0]][d[1]] = 2\n",
        "          break\n",
        "      else: #表示该方向不可以走，去看下一个方向\n",
        "        continue\n",
        "\n",
        "    if flag_No_exist == False:\n",
        "      maze[d[0]][d[1]] = 2  #记得这里要更新最后访问过的那个点\n",
        "      stack.pop()\n",
        "      print(stack)\n",
        "  else:\n",
        "    print(\"无路可走！\")\n",
        "\n",
        "\n",
        "maze_path(1,1,8,8)"
      ]
    },
    {
      "cell_type": "code",
      "source": [
        "maze = [\n",
        "    [1,1,1,1,1,1,1,1,1,1],\n",
        "    [1,0,0,1,0,0,0,1,0,1],\n",
        "    [1,0,0,1,0,0,0,1,0,1],\n",
        "    [1,0,0,0,0,1,1,0,0,1],\n",
        "    [1,0,1,1,1,0,0,0,0,1],\n",
        "    [1,0,0,0,1,0,0,0,0,1],\n",
        "    [1,0,1,0,0,0,1,0,0,1],\n",
        "    [1,0,1,1,1,0,1,1,0,1],\n",
        "    [1,1,0,0,0,0,0,0,0,1],\n",
        "    [1,1,1,1,1,1,1,1,1,1]\n",
        "]\n",
        "\n",
        "dirs = [\n",
        "    lambda x,y:(x-1,y),\n",
        "    lambda x,y:(x,y+1),\n",
        "    lambda x,y:(x+1,y),\n",
        "    lambda x,y:(x,y-1)\n",
        "]\n",
        "\n",
        "\n",
        "def maze_path(x1,y1,x2,y2):\n",
        "  stack = []\n",
        "  # cur = (x1, y1)\n",
        "  # maze[x1][y1] = 2\n",
        "  stack.append((x1, y1))\n",
        "  while len(stack) > 0:\n",
        "    cur = stack[-1]\n",
        "    for item in dirs:\n",
        "      nextNode = item(cur[0], cur[1])\n",
        "      if maze[nextNode[0]][nextNode[1]] == 0: #表示可以走\n",
        "          stack.append(nextNode)\n",
        "          if (nextNode[0] == x2) & (nextNode[1] == y2):\n",
        "            print(\"find the path\")\n",
        "            return\n",
        "          cur = nextNode\n",
        "          maze[nextNode[0]][nextNode[1]] = 2\n",
        "          # print(stack)\n",
        "          break\n",
        "      else: #表示该方向不可以走，去看下一个方向\n",
        "        continue\n",
        "    else:\n",
        "      maze[nextNode[0]][nextNode[1]] = 2\n",
        "      stack.pop()\n",
        "      print(stack)\n",
        "  else:\n",
        "    print(\"无路可走！\")\n",
        "\n",
        "\n",
        "maze_path(1,1,8,8)"
      ],
      "metadata": {
        "colab": {
          "base_uri": "https://localhost:8080/"
        },
        "id": "XNcqyrN-hHKF",
        "outputId": "d7707773-4c92-49a4-888c-e7ed13165a04"
      },
      "execution_count": 11,
      "outputs": [
        {
          "output_type": "stream",
          "name": "stdout",
          "text": [
            "[(1, 1), (1, 2), (2, 2), (3, 2), (3, 3), (3, 4), (2, 4), (1, 4), (1, 5), (1, 6), (2, 6)]\n",
            "[(1, 1), (1, 2), (2, 2), (3, 2), (3, 3), (3, 4), (2, 4), (1, 4), (1, 5), (1, 6)]\n",
            "[(1, 1), (1, 2), (2, 2), (3, 2), (3, 3), (3, 4), (2, 4), (1, 4), (1, 5)]\n",
            "[(1, 1), (1, 2), (2, 2), (3, 2), (3, 3), (3, 4), (2, 4), (1, 4)]\n",
            "[(1, 1), (1, 2), (2, 2), (3, 2), (3, 3), (3, 4), (2, 4)]\n",
            "[(1, 1), (1, 2), (2, 2), (3, 2), (3, 3), (3, 4)]\n",
            "[(1, 1), (1, 2), (2, 2), (3, 2), (3, 3)]\n",
            "[(1, 1), (1, 2), (2, 2), (3, 2)]\n",
            "[(1, 1), (1, 2), (2, 2), (3, 2), (3, 1), (2, 1)]\n",
            "[(1, 1), (1, 2), (2, 2), (3, 2), (3, 1)]\n",
            "[(1, 1), (1, 2), (2, 2), (3, 2), (3, 1), (4, 1), (5, 1), (5, 2), (5, 3), (6, 3), (6, 4), (6, 5), (5, 5), (4, 5), (4, 6), (4, 7), (3, 7), (3, 8), (2, 8)]\n",
            "[(1, 1), (1, 2), (2, 2), (3, 2), (3, 1), (4, 1), (5, 1), (5, 2), (5, 3), (6, 3), (6, 4), (6, 5), (5, 5), (4, 5), (4, 6), (4, 7), (3, 7), (3, 8)]\n",
            "find the path\n"
          ]
        }
      ]
    }
  ]
}
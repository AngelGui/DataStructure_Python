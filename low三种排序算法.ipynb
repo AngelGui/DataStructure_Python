{
  "nbformat": 4,
  "nbformat_minor": 0,
  "metadata": {
    "colab": {
      "provenance": [],
      "authorship_tag": "ABX9TyNOe68JnlJR0d9tQEsJfWw7",
      "include_colab_link": true
    },
    "kernelspec": {
      "name": "python3",
      "display_name": "Python 3"
    },
    "language_info": {
      "name": "python"
    }
  },
  "cells": [
    {
      "cell_type": "markdown",
      "metadata": {
        "id": "view-in-github",
        "colab_type": "text"
      },
      "source": [
        "<a href=\"https://colab.research.google.com/github/AngelGui/DataStructure_Python/blob/main/low%E4%B8%89%E7%A7%8D%E6%8E%92%E5%BA%8F%E7%AE%97%E6%B3%95.ipynb\" target=\"_parent\"><img src=\"https://colab.research.google.com/assets/colab-badge.svg\" alt=\"Open In Colab\"/></a>"
      ]
    },
    {
      "cell_type": "code",
      "execution_count": 1,
      "metadata": {
        "colab": {
          "base_uri": "https://localhost:8080/"
        },
        "id": "Y2K3Js038iNg",
        "outputId": "53705bcf-4163-4c2c-abba-b927b30146f2"
      },
      "outputs": [
        {
          "output_type": "stream",
          "name": "stdout",
          "text": [
            "[1, 2, 3, 4, 5, 6, 7, 8, 9]\n"
          ]
        }
      ],
      "source": [
        "#bubble sort\n",
        "\n",
        "def bubble_sort(li):\n",
        "    for i in range(len(li)-1):  #一共走了多少趟\n",
        "      for j in range(len(li)-i-1): #每一趟得到一个最大值\n",
        "        if li[j] > li[j+1]:\n",
        "          li[j],li[j+1] = li[j+1],li[j]\n",
        "\n",
        "li = [3,4,2,6,8,1,9,7,5]\n",
        "bubble_sort(li)\n",
        "print(li)"
      ]
    },
    {
      "cell_type": "code",
      "source": [
        "# selection sort\n",
        "\n",
        "def select_sort(li):\n",
        "    for i in range(len(li)-1):    #一共走多少趟\n",
        "      min_loc = i\n",
        "      for j in range(i, len(li)):  #每一趟得到一个最小值\n",
        "        if li[j] < li[min_loc]:\n",
        "          min_loc = j\n",
        "      li[i], li[min_loc] = li[min_loc], li[i]\n",
        "\n",
        "li = [3,4,2,6,8,1,9,7,5]\n",
        "select_sort(li)\n",
        "print(li)"
      ],
      "metadata": {
        "colab": {
          "base_uri": "https://localhost:8080/"
        },
        "id": "PJ6jCCzT_Bx5",
        "outputId": "0cf1d246-d683-4f31-9b9c-4d4357db3aa5"
      },
      "execution_count": 2,
      "outputs": [
        {
          "output_type": "stream",
          "name": "stdout",
          "text": [
            "[1, 2, 3, 4, 5, 6, 7, 8, 9]\n"
          ]
        }
      ]
    },
    {
      "cell_type": "code",
      "source": [
        "# insert sort\n",
        "import random\n",
        "def insert_sort(li):\n",
        "  for i in range(1, len(li)):   #一共起了多少张牌\n",
        "    selected = li[i]\n",
        "    for j in range(i-1, -2, -1):  #每一张牌插入到合适的地方\n",
        "      if j == -1:\n",
        "        li[0] = selected\n",
        "        break\n",
        "      if selected < li[j]:\n",
        "        li[j+1] = li[j]\n",
        "      else:\n",
        "        li[j+1] = selected   #插入进去以后一定要break结束，然后启下一张牌\n",
        "        break\n",
        "\n",
        "li = [3,4,2,6,8,1,9,7,5]\n",
        "print(li)\n",
        "insert_sort(li)\n",
        "print(li)\n",
        "\n",
        "li2 = [random.randint(1, 100) for i in range(100)]\n",
        "print(li2)\n",
        "insert_sort(li2)\n",
        "print(li2)"
      ],
      "metadata": {
        "colab": {
          "base_uri": "https://localhost:8080/"
        },
        "id": "QBV4Z0mLASGR",
        "outputId": "377e3028-93a2-43f3-fa99-de6121df47df"
      },
      "execution_count": 23,
      "outputs": [
        {
          "output_type": "stream",
          "name": "stdout",
          "text": [
            "[3, 4, 2, 6, 8, 1, 9, 7, 5]\n",
            "[1, 2, 3, 4, 5, 6, 7, 8, 9]\n",
            "[61, 42, 54, 18, 18, 54, 47, 83, 9, 20, 61, 50, 7, 10, 66, 2, 91, 88, 18, 4, 83, 53, 34, 58, 78, 80, 48, 94, 95, 58, 95, 36, 7, 43, 58, 95, 30, 46, 19, 79, 100, 8, 6, 48, 30, 96, 28, 3, 1, 10, 42, 40, 27, 71, 85, 9, 32, 8, 50, 48, 98, 86, 77, 55, 51, 97, 84, 35, 32, 79, 84, 31, 79, 65, 14, 54, 8, 67, 95, 56, 73, 100, 45, 61, 21, 21, 4, 53, 95, 28, 92, 97, 58, 24, 19, 47, 45, 34, 76, 94]\n",
            "[1, 2, 3, 4, 4, 6, 7, 7, 8, 8, 8, 9, 9, 10, 10, 14, 18, 18, 18, 19, 19, 20, 21, 21, 24, 27, 28, 28, 30, 30, 31, 32, 32, 34, 34, 35, 36, 40, 42, 42, 43, 45, 45, 46, 47, 47, 48, 48, 48, 50, 50, 51, 53, 53, 54, 54, 54, 55, 56, 58, 58, 58, 58, 61, 61, 61, 65, 66, 67, 71, 73, 76, 77, 78, 79, 79, 79, 80, 83, 83, 84, 84, 85, 86, 88, 91, 92, 94, 94, 95, 95, 95, 95, 95, 96, 97, 97, 98, 100, 100]\n"
          ]
        }
      ]
    }
  ]
}